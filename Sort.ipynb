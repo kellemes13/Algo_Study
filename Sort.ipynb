{
  "nbformat": 4,
  "nbformat_minor": 0,
  "metadata": {
    "colab": {
      "provenance": [],
      "authorship_tag": "ABX9TyMbhRmjywIF0DZHDvzCESSZ",
      "include_colab_link": true
    },
    "kernelspec": {
      "name": "python3",
      "display_name": "Python 3"
    },
    "language_info": {
      "name": "python"
    }
  },
  "cells": [
    {
      "cell_type": "markdown",
      "metadata": {
        "id": "view-in-github",
        "colab_type": "text"
      },
      "source": [
        "<a href=\"https://colab.research.google.com/github/kellemes13/Algo_Study/blob/main/Sort.ipynb\" target=\"_parent\"><img src=\"https://colab.research.google.com/assets/colab-badge.svg\" alt=\"Open In Colab\"/></a>"
      ]
    },
    {
      "cell_type": "markdown",
      "source": [
        "**Insertion sort:**  O(N^2)\n",
        "\n",
        "每次iteration 就把這次輪到的entry 插入前面排好的部分"
      ],
      "metadata": {
        "id": "OACpgBgL5_yF"
      }
    },
    {
      "cell_type": "code",
      "execution_count": null,
      "metadata": {
        "id": "Sbmabbpx53xd"
      },
      "outputs": [],
      "source": [
        "def InsertionSort(lst):\n",
        "  length=len(lst)\n",
        "  for idx in range(1,length):\n",
        "    key=idx\n",
        "    for j in range(key-1,-1,-1):\n",
        "      if int(lst[key])<int(lst[j]):\n",
        "        lst[j],lst[key]=lst[key],lst[j]\n",
        "        key=j\n",
        "  return lst\n",
        "\n",
        "\n",
        "#8 10 1 3 4 6 9 2 7 5\n",
        "if __name__ == '__main__':\n",
        "  lst=input()\n",
        "  lst=lst.split()\n",
        "  sortlst=InsertionSort(lst)\n",
        "  print(' '.join(lst))\n",
        "\n",
        "\n"
      ]
    },
    {
      "cell_type": "markdown",
      "source": [
        "**Selection sort:**  O(N^2)\n",
        "\n",
        "每次iteration 從還沒有排序過的那堆裡面 找最小的 存在一個temp空間, 之後再把他放到未排序堆的頭"
      ],
      "metadata": {
        "id": "w6TS0jTh58rR"
      }
    },
    {
      "cell_type": "code",
      "source": [
        "#for i, entry in enumerate(unsorted_list):\n",
        "def SelectionSort(lst):\n",
        "  length=len(lst)\n",
        "  minidx=0\n",
        "  for start in range(length):\n",
        "    minidx=start\n",
        "    for idx in range(start,length):\n",
        "      if int(lst[idx])<int(lst[minidx]):\n",
        "        minidx=idx\n",
        "    if minidx!=start:\n",
        "      lst[start],lst[minidx]=lst[minidx],lst[start]\n",
        "  return lst\n",
        "\n",
        "if __name__=='__main__':\n",
        "  lst=[x for x in input().split()]\n",
        "  sortlist=SelectionSort(lst)\n",
        "  print(' '.join(lst))"
      ],
      "metadata": {
        "colab": {
          "base_uri": "https://localhost:8080/"
        },
        "id": "V3Vyyuscag-3",
        "outputId": "b3a8ee80-a517-4723-bded-22a88cc837eb"
      },
      "execution_count": 7,
      "outputs": [
        {
          "output_type": "stream",
          "name": "stdout",
          "text": [
            "8 10 1 3 4 6 9 2 7 5\n",
            "1 2 3 4 5 6 7 8 9 10\n"
          ]
        }
      ]
    }
  ]
}