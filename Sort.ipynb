{
  "nbformat": 4,
  "nbformat_minor": 0,
  "metadata": {
    "colab": {
      "provenance": [],
      "authorship_tag": "ABX9TyO7rXiZxPeDPfABNK0bWjRs",
      "include_colab_link": true
    },
    "kernelspec": {
      "name": "python3",
      "display_name": "Python 3"
    },
    "language_info": {
      "name": "python"
    }
  },
  "cells": [
    {
      "cell_type": "markdown",
      "metadata": {
        "id": "view-in-github",
        "colab_type": "text"
      },
      "source": [
        "<a href=\"https://colab.research.google.com/github/kellemes13/Algo_Study/blob/main/Sort.ipynb\" target=\"_parent\"><img src=\"https://colab.research.google.com/assets/colab-badge.svg\" alt=\"Open In Colab\"/></a>"
      ]
    },
    {
      "cell_type": "markdown",
      "source": [
        "**Insertion sort:**  O(N^2)\n",
        "\n",
        "每次iteration 就把這次輪到的entry 插入前面排好的部分"
      ],
      "metadata": {
        "id": "OACpgBgL5_yF"
      }
    },
    {
      "cell_type": "code",
      "execution_count": null,
      "metadata": {
        "id": "Sbmabbpx53xd"
      },
      "outputs": [],
      "source": [
        "def InsertionSort(lst):\n",
        "  length=len(lst)\n",
        "  for idx in range(1,length):\n",
        "    key=idx\n",
        "    for j in range(key-1,-1,-1):\n",
        "      if int(lst[key])<int(lst[j]):\n",
        "        lst[j],lst[key]=lst[key],lst[j]\n",
        "        key=j\n",
        "  return lst\n",
        "\n",
        "\n",
        "#8 10 1 3 4 6 9 2 7 5\n",
        "if __name__ == '__main__':\n",
        "  lst=input()\n",
        "  lst=lst.split()\n",
        "  sortlst=InsertionSort(lst)\n",
        "  print(' '.join(lst))\n",
        "\n",
        "\n"
      ]
    },
    {
      "cell_type": "markdown",
      "source": [
        "**Selection sort:**  O(N^2)\n",
        "\n",
        "每次iteration 從還沒有排序過的那堆裡面 找最小的 存在一個temp空間, 之後再把他放到未排序堆的頭"
      ],
      "metadata": {
        "id": "w6TS0jTh58rR"
      }
    },
    {
      "cell_type": "code",
      "source": [
        "#for i, entry in enumerate(unsorted_list):\n",
        "def SelectionSort(lst):\n",
        "  length=len(lst)\n",
        "  minidx=0\n",
        "  for start in range(length):\n",
        "    minidx=start\n",
        "    for idx in range(start,length):\n",
        "      if int(lst[idx])<int(lst[minidx]):\n",
        "        minidx=idx\n",
        "    if minidx!=start:\n",
        "      lst[start],lst[minidx]=lst[minidx],lst[start]\n",
        "  return lst\n",
        "\n",
        "if __name__=='__main__':\n",
        "  lst=[x for x in input().split()]\n",
        "  sortlist=SelectionSort(lst)\n",
        "  print(' '.join(sortlist))"
      ],
      "metadata": {
        "colab": {
          "base_uri": "https://localhost:8080/"
        },
        "id": "V3Vyyuscag-3",
        "outputId": "b3a8ee80-a517-4723-bded-22a88cc837eb"
      },
      "execution_count": null,
      "outputs": [
        {
          "output_type": "stream",
          "name": "stdout",
          "text": [
            "8 10 1 3 4 6 9 2 7 5\n",
            "1 2 3 4 5 6 7 8 9 10\n"
          ]
        }
      ]
    },
    {
      "cell_type": "markdown",
      "source": [
        "**Bubble sort:** O(N^2)\n",
        "\n",
        "每一run 從頭開始一值跟隔壁的比較 比較到最後\n",
        "\n",
        "如果1 run 過程中沒有發生交換，則清單已排序。"
      ],
      "metadata": {
        "id": "GsGRKqWVrybS"
      }
    },
    {
      "cell_type": "code",
      "source": [
        "def BubbleSort(lst):\n",
        "  length=len(lst)\n",
        "\n",
        "  for run in range(length):\n",
        "    swap=0\n",
        "    for idx in range(length-run-1):\n",
        "      if int(lst[idx])>int(lst[idx+1]):\n",
        "        lst[idx],lst[idx+1]=lst[idx+1],lst[idx]\n",
        "        swap=1\n",
        "    #print(lst)\n",
        "    if swap==0:\n",
        "      break\n",
        "  return lst\n",
        "\n",
        "if __name__=='__main__':\n",
        "  lst=[x for x in input().split()]\n",
        "  sortlist=BubbleSort(lst)\n",
        "  print(' '.join(sortlist))"
      ],
      "metadata": {
        "id": "KMZTxr_bENO4"
      },
      "execution_count": null,
      "outputs": []
    },
    {
      "cell_type": "markdown",
      "source": [
        "**Merge Sort **  O(nlogn)\n",
        "\n",
        "Sort 左邊\n",
        "Sort 右邊\n",
        "\n",
        "合併上面的兩個return list"
      ],
      "metadata": {
        "id": "DbHEgSQynMi5"
      }
    },
    {
      "cell_type": "code",
      "source": [
        "def MergeSort(lst):\n",
        "  n=len(lst)\n",
        "  if n<=1:\n",
        "    return lst\n",
        "\n",
        "  mid=n//2\n",
        "  #print(mid)\n",
        "\n",
        "  leftlist=MergeSort(lst[:mid])\n",
        "  rightlist=MergeSort(lst[mid:])\n",
        "\n",
        "  leftptr=0\n",
        "  rightptr=0\n",
        "  result_list=[]\n",
        "\n",
        "  #print()\n",
        "\n",
        "  #merge 2 left and right list\n",
        "  while leftptr<mid or rightptr<n-mid:\n",
        "    if leftptr == mid and rightptr<n-mid:\n",
        "      result_list.append(rightlist[rightptr])\n",
        "      rightptr+=1\n",
        "    elif rightptr==(n-mid) and leftptr<mid:\n",
        "      result_list.append(leftlist[leftptr])\n",
        "      leftptr+=1\n",
        "    else:\n",
        "      if leftlist[leftptr]<rightlist[rightptr]:\n",
        "        #print(leftlist[leftptr],rightlist[rightptr])\n",
        "        result_list.append(leftlist[leftptr])\n",
        "        leftptr+=1\n",
        "      else:\n",
        "        result_list.append(rightlist[rightptr])\n",
        "        rightptr+=1\n",
        "  #print('result',result_list)\n",
        "  return result_list\n",
        "\n",
        "# 8 10 1 3 4 6 9 2 7 5\n",
        "\n",
        "if __name__=='__main__':\n",
        "  lst=[int(x) for x in input().split()]\n",
        "  sortlist=MergeSort(lst)\n",
        "  #print(sortlist)\n",
        "  print(' '.join(map(str, sortlist)))\n"
      ],
      "metadata": {
        "id": "jAnFtYwbsaMB",
        "colab": {
          "base_uri": "https://localhost:8080/"
        },
        "outputId": "270102bf-3022-414d-c3bd-5199b51d1eb6"
      },
      "execution_count": 25,
      "outputs": [
        {
          "output_type": "stream",
          "name": "stdout",
          "text": [
            "8 10 1 3 4 6 9 2 7 5\n",
            "1 2 3 4 5 6 7 8 9 10\n"
          ]
        }
      ]
    },
    {
      "cell_type": "markdown",
      "source": [
        "Quick Sort"
      ],
      "metadata": {
        "id": "CJHaUI5kfNQB"
      }
    },
    {
      "cell_type": "code",
      "source": [
        "def QuickSort(lst):\n",
        "\n",
        "\n",
        "  return sortlist\n",
        "\n",
        "\n",
        "if __name__ =='__main__':\n",
        "  lst=[int(x) for x in input().split()]\n",
        "  sortlist=QuickSort(lst)\n",
        "\n"
      ],
      "metadata": {
        "id": "Ikkzm7J_CVQ7"
      },
      "execution_count": null,
      "outputs": []
    },
    {
      "cell_type": "code",
      "source": [
        "from typing import List\n",
        "\n",
        "def sort_list_interval(unsorted_list: List[int], start: int, end: int) -> None:\n",
        "    # If segment is 1 or 0, it's sorted\n",
        "    if end - start <= 1:\n",
        "        return\n",
        "\n",
        "    # Using last element as the pivot\n",
        "    pivot = unsorted_list[end - 1]\n",
        "    start_ptr, end_ptr = start, end - 1\n",
        "\n",
        "    # Partitioning process\n",
        "    while start_ptr < end_ptr:\n",
        "        # Find the next element from the left that is larger than the pivot\n",
        "        while unsorted_list[start_ptr] < pivot and start_ptr < end_ptr:\n",
        "            start_ptr += 1\n",
        "\n",
        "        # Find the next element from the right that is smaller than or equal to the pivot\n",
        "        while unsorted_list[end_ptr] >= pivot and start_ptr < end_ptr:\n",
        "            end_ptr -= 1\n",
        "\n",
        "        # Swap if pointers haven't met\n",
        "        unsorted_list[start_ptr], unsorted_list[end_ptr] = unsorted_list[end_ptr], unsorted_list[start_ptr]\n",
        "\n",
        "    # Place pivot in its final position\n",
        "    unsorted_list[start_ptr], unsorted_list[end - 1] = unsorted_list[end - 1], unsorted_list[start_ptr]\n",
        "\n",
        "    # Sort left and right of the pivot\n",
        "    sort_list_interval(unsorted_list, start, start_ptr)\n",
        "    sort_list_interval(unsorted_list, start_ptr + 1, end)\n",
        "\n",
        "def sort_list(unsorted_list: List[int]) -> List[int]:\n",
        "    sort_list_interval(unsorted_list, 0, len(unsorted_list))\n",
        "    return unsorted_list\n",
        "\n",
        "if __name__ == '__main__':\n",
        "    unsorted_list = [int(x) for x in input().split()]\n",
        "    res = sort_list(unsorted_list)\n",
        "    print(' '.join(map(str, res)))"
      ],
      "metadata": {
        "id": "xDXLpCI2CZhi"
      },
      "execution_count": null,
      "outputs": []
    }
  ]
}