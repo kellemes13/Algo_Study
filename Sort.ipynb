{
  "nbformat": 4,
  "nbformat_minor": 0,
  "metadata": {
    "colab": {
      "provenance": [],
      "authorship_tag": "ABX9TyNNVB/wIyaPq4Zj+mebVJYq",
      "include_colab_link": true
    },
    "kernelspec": {
      "name": "python3",
      "display_name": "Python 3"
    },
    "language_info": {
      "name": "python"
    }
  },
  "cells": [
    {
      "cell_type": "markdown",
      "metadata": {
        "id": "view-in-github",
        "colab_type": "text"
      },
      "source": [
        "<a href=\"https://colab.research.google.com/github/kellemes13/Algo_Study/blob/main/Sort.ipynb\" target=\"_parent\"><img src=\"https://colab.research.google.com/assets/colab-badge.svg\" alt=\"Open In Colab\"/></a>"
      ]
    },
    {
      "cell_type": "markdown",
      "source": [
        "**Insertion sort:**\n",
        "\n",
        "每次iteration 就把這次輪到的entry 插入前面排好的部分"
      ],
      "metadata": {
        "id": "OACpgBgL5_yF"
      }
    },
    {
      "cell_type": "code",
      "execution_count": 9,
      "metadata": {
        "colab": {
          "base_uri": "https://localhost:8080/"
        },
        "id": "Sbmabbpx53xd",
        "outputId": "33536e53-4afd-43bc-bdb2-6e552f0decf8"
      },
      "outputs": [
        {
          "output_type": "stream",
          "name": "stdout",
          "text": [
            "3 1 5 2 4\n",
            "idx 1\n",
            "idx 2\n",
            "idx 3\n",
            "idx 4\n",
            "1 2 3 4 5\n"
          ]
        }
      ],
      "source": [
        "def InsertionSort(lst):\n",
        "  length=len(lst)\n",
        "  #len 5: 1 2 3 4\n",
        "  for idx in range(1,length):\n",
        "    print('idx',idx)\n",
        "    key=lst[idx]\n",
        "    #idx=2 j=1/0\n",
        "    key=idx\n",
        "    for j in range(key-1,-1,-1):\n",
        "      if lst[key]<lst[j]:\n",
        "        lst[j],lst[key]=lst[key],lst[j]\n",
        "        key=j\n",
        "  return lst\n",
        "\n",
        "\n",
        "if __name__ == '__main__':\n",
        "  lst=input()\n",
        "  lst=lst.split()\n",
        "  sortlst=InsertionSort(lst)\n",
        "  print(' '.join(lst))\n",
        "\n",
        "\n"
      ]
    },
    {
      "cell_type": "markdown",
      "source": [],
      "metadata": {
        "id": "w6TS0jTh58rR"
      }
    }
  ]
}