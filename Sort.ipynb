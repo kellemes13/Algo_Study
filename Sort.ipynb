{
  "nbformat": 4,
  "nbformat_minor": 0,
  "metadata": {
    "colab": {
      "provenance": [],
      "authorship_tag": "ABX9TyMYaAUM5JIQ518xB8cQ8STq",
      "include_colab_link": true
    },
    "kernelspec": {
      "name": "python3",
      "display_name": "Python 3"
    },
    "language_info": {
      "name": "python"
    }
  },
  "cells": [
    {
      "cell_type": "markdown",
      "metadata": {
        "id": "view-in-github",
        "colab_type": "text"
      },
      "source": [
        "<a href=\"https://colab.research.google.com/github/kellemes13/Algo_Study/blob/main/Sort.ipynb\" target=\"_parent\"><img src=\"https://colab.research.google.com/assets/colab-badge.svg\" alt=\"Open In Colab\"/></a>"
      ]
    },
    {
      "cell_type": "markdown",
      "source": [
        "**Insertion sort:**  O(N^2)\n",
        "\n",
        "每次iteration 就把這次輪到的entry 插入前面排好的部分"
      ],
      "metadata": {
        "id": "OACpgBgL5_yF"
      }
    },
    {
      "cell_type": "code",
      "execution_count": null,
      "metadata": {
        "id": "Sbmabbpx53xd"
      },
      "outputs": [],
      "source": [
        "def InsertionSort(lst):\n",
        "  length=len(lst)\n",
        "  for idx in range(1,length):\n",
        "    key=idx\n",
        "    for j in range(key-1,-1,-1):\n",
        "      if int(lst[key])<int(lst[j]):\n",
        "        lst[j],lst[key]=lst[key],lst[j]\n",
        "        key=j\n",
        "  return lst\n",
        "\n",
        "\n",
        "#8 10 1 3 4 6 9 2 7 5\n",
        "if __name__ == '__main__':\n",
        "  lst=input()\n",
        "  lst=lst.split()\n",
        "  sortlst=InsertionSort(lst)\n",
        "  print(' '.join(lst))\n",
        "\n",
        "\n"
      ]
    },
    {
      "cell_type": "markdown",
      "source": [
        "**Selection sort:**  O(N^2)\n",
        "\n",
        "每次iteration 從還沒有排序過的那堆裡面 找最小的 存在一個temp空間, 之後再把他放到未排序堆的頭"
      ],
      "metadata": {
        "id": "w6TS0jTh58rR"
      }
    },
    {
      "cell_type": "code",
      "source": [
        "#for i, entry in enumerate(unsorted_list):\n",
        "def SelectionSort(lst):\n",
        "  length=len(lst)\n",
        "  minidx=0\n",
        "  for start in range(length):\n",
        "    minidx=start\n",
        "    for idx in range(start,length):\n",
        "      if int(lst[idx])<int(lst[minidx]):\n",
        "        minidx=idx\n",
        "    if minidx!=start:\n",
        "      lst[start],lst[minidx]=lst[minidx],lst[start]\n",
        "  return lst\n",
        "\n",
        "if __name__=='__main__':\n",
        "  lst=[x for x in input().split()]\n",
        "  sortlist=SelectionSort(lst)\n",
        "  print(' '.join(sortlist))"
      ],
      "metadata": {
        "colab": {
          "base_uri": "https://localhost:8080/"
        },
        "id": "V3Vyyuscag-3",
        "outputId": "b3a8ee80-a517-4723-bded-22a88cc837eb"
      },
      "execution_count": 7,
      "outputs": [
        {
          "output_type": "stream",
          "name": "stdout",
          "text": [
            "8 10 1 3 4 6 9 2 7 5\n",
            "1 2 3 4 5 6 7 8 9 10\n"
          ]
        }
      ]
    },
    {
      "cell_type": "markdown",
      "source": [
        "**Bubble sort:** O(N^2)\n",
        "\n",
        "每一run 從頭開始一值跟隔壁的比較 比較到最後\n",
        "\n",
        "如果1 run 過程中沒有發生交換，則清單已排序。"
      ],
      "metadata": {
        "id": "GsGRKqWVrybS"
      }
    },
    {
      "cell_type": "code",
      "source": [
        "def BubbleSort(lst):\n",
        "  length=len(lst)\n",
        "\n",
        "  for run in range(length):\n",
        "    swap=0\n",
        "    for idx in range(length-run-1):\n",
        "      if int(lst[idx])>int(lst[idx+1]):\n",
        "        lst[idx],lst[idx+1]=lst[idx+1],lst[idx]\n",
        "        swap=1\n",
        "    #print(lst)\n",
        "    if swap==0:\n",
        "      break\n",
        "  return lst\n",
        "\n",
        "if __name__=='__main__':\n",
        "  lst=[x for x in input().split()]\n",
        "  sortlist=BubbleSort(lst)\n",
        "  print(' '.join(sortlist))"
      ],
      "metadata": {
        "id": "KMZTxr_bENO4"
      },
      "execution_count": null,
      "outputs": []
    },
    {
      "cell_type": "code",
      "source": [],
      "metadata": {
        "id": "jAnFtYwbsaMB"
      },
      "execution_count": null,
      "outputs": []
    },
    {
      "cell_type": "code",
      "source": [],
      "metadata": {
        "id": "lLFqqmPUsbrp"
      },
      "execution_count": null,
      "outputs": []
    },
    {
      "cell_type": "code",
      "source": [
        "pip install matplotlib\n"
      ],
      "metadata": {
        "id": "YT1Wd-Tisbdh",
        "outputId": "98ea7eab-fb5f-4c23-c153-d60500858d10",
        "colab": {
          "base_uri": "https://localhost:8080/"
        }
      },
      "execution_count": 1,
      "outputs": [
        {
          "output_type": "stream",
          "name": "stdout",
          "text": [
            "Requirement already satisfied: matplotlib in /usr/local/lib/python3.10/dist-packages (3.7.1)\n",
            "Requirement already satisfied: contourpy>=1.0.1 in /usr/local/lib/python3.10/dist-packages (from matplotlib) (1.2.0)\n",
            "Requirement already satisfied: cycler>=0.10 in /usr/local/lib/python3.10/dist-packages (from matplotlib) (0.12.1)\n",
            "Requirement already satisfied: fonttools>=4.22.0 in /usr/local/lib/python3.10/dist-packages (from matplotlib) (4.49.0)\n",
            "Requirement already satisfied: kiwisolver>=1.0.1 in /usr/local/lib/python3.10/dist-packages (from matplotlib) (1.4.5)\n",
            "Requirement already satisfied: numpy>=1.20 in /usr/local/lib/python3.10/dist-packages (from matplotlib) (1.25.2)\n",
            "Requirement already satisfied: packaging>=20.0 in /usr/local/lib/python3.10/dist-packages (from matplotlib) (24.0)\n",
            "Requirement already satisfied: pillow>=6.2.0 in /usr/local/lib/python3.10/dist-packages (from matplotlib) (9.4.0)\n",
            "Requirement already satisfied: pyparsing>=2.3.1 in /usr/local/lib/python3.10/dist-packages (from matplotlib) (3.1.2)\n",
            "Requirement already satisfied: python-dateutil>=2.7 in /usr/local/lib/python3.10/dist-packages (from matplotlib) (2.8.2)\n",
            "Requirement already satisfied: six>=1.5 in /usr/local/lib/python3.10/dist-packages (from python-dateutil>=2.7->matplotlib) (1.16.0)\n"
          ]
        }
      ]
    },
    {
      "cell_type": "code",
      "source": [
        "from google.colab import drive\n",
        "drive.mount('/content/drive')\n"
      ],
      "metadata": {
        "id": "INeCgF1xsrP6",
        "outputId": "41289c6d-4361-4e96-f198-ca7a0aa5531e",
        "colab": {
          "base_uri": "https://localhost:8080/"
        }
      },
      "execution_count": 2,
      "outputs": [
        {
          "output_type": "stream",
          "name": "stdout",
          "text": [
            "Mounted at /content/drive\n"
          ]
        }
      ]
    },
    {
      "cell_type": "code",
      "source": [
        "import csv\n",
        "import matplotlib.pyplot as plt\n",
        "\n",
        "# 讀取CSV檔案並返回兩個列表：第一欄的數值和計算出的x值\n",
        "def read_csv_for_plotting(filename):\n",
        "    x_values = [] # 存儲第一欄的數值\n",
        "    y_values = [] # 存儲計算出的x值\n",
        "    with open(filename, 'r', newline='') as file:\n",
        "        reader = csv.reader(file)\n",
        "        for row in reader:\n",
        "            if len(row) >= 2:\n",
        "                try:\n",
        "                    x_values.append(float(row[0]))\n",
        "                    y_values.append(float(row[1]))\n",
        "                except ValueError:\n",
        "                    continue\n",
        "    return x_values, y_values\n",
        "\n",
        "# 繪製折線圖\n",
        "def plot_data(x_values, y_values):\n",
        "    plt.plot(x_values, y_values) # 使用'o'標記每個點\n",
        "    plt.title('Latency')# 'Latency' #Bandwidth #IOPS\n",
        "    plt.xlabel('IO')#'IO' #second   #second\n",
        "    plt.ylabel('ms')#'ms' #MB/s #IOPS\n",
        "    plt.grid(True)\n",
        "    plt.show()\n",
        "\n",
        "# 假設輸出檔案名稱是 'output.csv'\n",
        "output_filename = 'sw-10_lat.1.logout.csv'\n",
        "\n",
        "x_data, y_data = read_csv_for_plotting(output_filename)\n",
        "plot_data(x_data, y_data)\n"
      ],
      "metadata": {
        "id": "AJ03ML-ms1KI",
        "outputId": "d8df260f-8ee3-49a2-d9f1-ad83bc02d5a7",
        "colab": {
          "base_uri": "https://localhost:8080/",
          "height": 472
        }
      },
      "execution_count": 5,
      "outputs": [
        {
          "output_type": "display_data",
          "data": {
            "text/plain": [
              "<Figure size 640x480 with 1 Axes>"
            ],
            "image/png": "[encoded data removed]"
          },
          "metadata": {}
        }
      ]
    }
  ]
}