{
  "nbformat": 4,
  "nbformat_minor": 0,
  "metadata": {
    "colab": {
      "provenance": [],
      "authorship_tag": "ABX9TyMslssu2b/1wIgOR9KSlaGI",
      "include_colab_link": true
    },
    "kernelspec": {
      "name": "python3",
      "display_name": "Python 3"
    },
    "language_info": {
      "name": "python"
    }
  },
  "cells": [
    {
      "cell_type": "markdown",
      "metadata": {
        "id": "view-in-github",
        "colab_type": "text"
      },
      "source": [
        "<a href=\"https://colab.research.google.com/github/kellemes13/Algo_Study/blob/main/Sort.ipynb\" target=\"_parent\"><img src=\"https://colab.research.google.com/assets/colab-badge.svg\" alt=\"Open In Colab\"/></a>"
      ]
    },
    {
      "cell_type": "markdown",
      "source": [
        "**Insertion sort:**\n",
        "\n",
        "每次iteration 就把這次輪到的entry 插入前面排好的部分"
      ],
      "metadata": {
        "id": "OACpgBgL5_yF"
      }
    },
    {
      "cell_type": "code",
      "execution_count": null,
      "metadata": {
        "id": "Sbmabbpx53xd"
      },
      "outputs": [],
      "source": [
        "def InsertionSort(lst):\n",
        "  length=len(lst)\n",
        "  #len 5: 1 2 3 4\n",
        "  for idx in range(1,length):\n",
        "    key=idx\n",
        "    for j in range(key-1,-1,-1):\n",
        "      if lst[key]<lst[j]:\n",
        "        lst[j],lst[key]=lst[key],lst[j]\n",
        "        key=j\n",
        "  return lst\n",
        "\n",
        "\n",
        "if __name__ == '__main__':\n",
        "  lst=input()\n",
        "  lst=lst.split()\n",
        "  sortlst=InsertionSort(lst)\n",
        "  print(' '.join(lst))\n",
        "\n",
        "\n"
      ]
    },
    {
      "cell_type": "markdown",
      "source": [],
      "metadata": {
        "id": "w6TS0jTh58rR"
      }
    }
  ]
}