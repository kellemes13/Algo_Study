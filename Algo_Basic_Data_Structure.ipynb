{
  "nbformat": 4,
  "nbformat_minor": 0,
  "metadata": {
    "colab": {
      "provenance": [],
      "authorship_tag": "ABX9TyN+pn9QkZGRqFobZcMGGbPf",
      "include_colab_link": true
    },
    "kernelspec": {
      "name": "python3",
      "display_name": "Python 3"
    },
    "language_info": {
      "name": "python"
    }
  },
  "cells": [
    {
      "cell_type": "markdown",
      "metadata": {
        "id": "view-in-github",
        "colab_type": "text"
      },
      "source": [
        "<a href=\"https://colab.research.google.com/github/kellemes13/Algo_Study/blob/main/Algo_Basic_Data_Structure.ipynb\" target=\"_parent\"><img src=\"https://colab.research.google.com/assets/colab-badge.svg\" alt=\"Open In Colab\"/></a>"
      ]
    },
    {
      "cell_type": "markdown",
      "source": [
        "**Basic Data Structure**"
      ],
      "metadata": {
        "id": "38QsrZ7aztsz"
      }
    },
    {
      "cell_type": "markdown",
      "source": [
        "# **Stack**\n",
        "\n",
        "Given a mini program, consisting of a list of stack operations of push, pop, and peek,\n",
        "return the resulting stack after the execution of the program.\n",
        "Print out the top item in the stack when you get a peek instruction....\n",
        "\n",
        "8\n",
        "push 3\n",
        "push 7\n",
        "push 20\n",
        "peek\n",
        "pop\n",
        "push 0\n",
        "push 4\n",
        "pop"
      ],
      "metadata": {
        "id": "JUO5Eclo8iCj"
      }
    },
    {
      "cell_type": "code",
      "source": [
        "from typing import List\n",
        "\n",
        "def execute(program: List[str]) -> List[int]:\n",
        "  stack=[]\n",
        "  for cmd in program:\n",
        "    cmd=cmd.strip().split()\n",
        "    if cmd[0] =='push':\n",
        "      stack.append(cmd[1])\n",
        "    elif cmd[0] =='pop':\n",
        "      stack.pop()\n",
        "    elif cmd[0] == 'peek':\n",
        "      print(stack[-1])\n",
        "  return stack\n",
        "\n",
        "if __name__ == '__main__':\n",
        "  cnt=int(input())\n",
        "  program=[input() for _ in range(cnt)]\n",
        "  stack=execute(program)\n",
        "  print(' '.join(stack))\n",
        "\n"
      ],
      "metadata": {
        "id": "dXIGixP2zwCB"
      },
      "execution_count": null,
      "outputs": []
    },
    {
      "cell_type": "markdown",
      "source": [
        "# **Queue**\n",
        "\n",
        "using python Deques\n",
        "\n",
        "Insert (or \"Push\"): Putting an item into the end of the queue.\n",
        "\n",
        "Peek: Look at the first item of the queue.\n",
        "\n",
        "Remove (or \"Pop\"): Remove the first item of the queue."
      ],
      "metadata": {
        "id": "fXvyTndnsCWJ"
      }
    },
    {
      "cell_type": "markdown",
      "source": [
        "### **Deque操作**\n",
        "\n",
        "**添加元素:**\n",
        "\n",
        ".append(x): 將 x 添加到右端。\n",
        "\n",
        ".appendleft(x): 將 x 添加到左端。\n",
        "\n",
        "**移除元素:**\n",
        "\n",
        ".pop(): 移除並返回右端元素。\n",
        "\n",
        ".popleft(): 移除並返回左端元素。\n",
        "\n",
        "**擴展 deque:**\n",
        "\n",
        ".extend(iterable): 將 iterable 的元素添加到右端。\n",
        "\n",
        ".extendleft(iterable): 將 iterable 的元素添加到左端（注意：iterable 的元素將會逆序添加到左端）。\n",
        "\n",
        "其他操作:\n",
        "\n",
        ".rotate(n): 向右旋轉 deque n 步。如果 n 是負數，則向左旋轉。\n",
        "\n",
        ".clear(): 清空 deque。\n",
        "\n",
        ".count(x): 計算 deque 中元素 x 出現的次數。\n",
        "\n",
        ".index(x[, start[, stop]]): 返回第 x 個元素的位置（位於 start 和 stop 之間）。\n",
        "\n",
        ".insert(i, x): 在位置 i 插入元素 x。\n",
        "\n",
        ".remove(value): 移除第一個匹配到的 value。\n",
        "\n",
        ".reverse(): 將 deque 中的元素反向排列。"
      ],
      "metadata": {
        "id": "0RVHJjSSuwCd"
      }
    },
    {
      "cell_type": "code",
      "source": [
        "from collections import deque\n",
        "from typing import List\n",
        "\n",
        "if __name__ == '__main__':\n",
        ""
      ],
      "metadata": {
        "id": "uBituogHsj1_"
      },
      "execution_count": null,
      "outputs": []
    }
  ]
}