{
  "nbformat": 4,
  "nbformat_minor": 0,
  "metadata": {
    "colab": {
      "provenance": [],
      "authorship_tag": "ABX9TyNiDzH15kVRq0QoYEIROZbq",
      "include_colab_link": true
    },
    "kernelspec": {
      "name": "python3",
      "display_name": "Python 3"
    },
    "language_info": {
      "name": "python"
    }
  },
  "cells": [
    {
      "cell_type": "markdown",
      "metadata": {
        "id": "view-in-github",
        "colab_type": "text"
      },
      "source": [
        "<a href=\"https://colab.research.google.com/github/kellemes13/Algo_Study/blob/main/Algo_Basic_Data_Structure.ipynb\" target=\"_parent\"><img src=\"https://colab.research.google.com/assets/colab-badge.svg\" alt=\"Open In Colab\"/></a>"
      ]
    },
    {
      "cell_type": "markdown",
      "source": [
        "**Basic Data Structure**"
      ],
      "metadata": {
        "id": "38QsrZ7aztsz"
      }
    },
    {
      "cell_type": "markdown",
      "source": [
        "# **Stack**\n",
        "\n",
        "Given a mini program, consisting of a list of stack operations of push, pop, and peek,\n",
        "return the resulting stack after the execution of the program.\n",
        "Print out the top item in the stack when you get a peek instruction....\n",
        "\n",
        "8\n",
        "push 3\n",
        "push 7\n",
        "push 20\n",
        "peek\n",
        "pop\n",
        "push 0\n",
        "push 4\n",
        "pop"
      ],
      "metadata": {
        "id": "JUO5Eclo8iCj"
      }
    },
    {
      "cell_type": "code",
      "source": [
        "from typing import List\n",
        "\n",
        "def execute(program: List[str]) -> List[int]:\n",
        "  stack=[]\n",
        "  for cmd in program:\n",
        "    cmd=cmd.strip().split()\n",
        "    if cmd[0] =='push':\n",
        "      stack.append(cmd[1])\n",
        "    elif cmd[0] =='pop':\n",
        "      stack.pop()\n",
        "    elif cmd[0] == 'peek':\n",
        "      print(stack[-1])\n",
        "  return stack\n",
        "\n",
        "if __name__ == '__main__':\n",
        "  cnt=int(input())\n",
        "  program=[input() for _ in range(cnt)]\n",
        "  stack=execute(program)\n",
        "  print(' '.join(stack))\n",
        "\n"
      ],
      "metadata": {
        "id": "dXIGixP2zwCB"
      },
      "execution_count": null,
      "outputs": []
    },
    {
      "cell_type": "markdown",
      "source": [
        "# **Queue**\n",
        "\n",
        "using python Deques\n",
        "\n",
        "Insert (or \"Push\"): Putting an item into the end of the queue.\n",
        "\n",
        "Peek: Look at the first item of the queue.\n",
        "\n",
        "Remove (or \"Pop\"): Remove the first item of the queue."
      ],
      "metadata": {
        "id": "fXvyTndnsCWJ"
      }
    },
    {
      "cell_type": "markdown",
      "source": [
        "### **Deque操作**\n",
        "\n",
        "**添加元素:**\n",
        "\n",
        ".append(x): 將 x 添加到右端。\n",
        "\n",
        ".appendleft(x): 將 x 添加到左端。\n",
        "\n",
        "**移除元素:**\n",
        "\n",
        ".pop(): 移除並返回右端元素。\n",
        "\n",
        ".popleft(): 移除並返回左端元素。\n",
        "\n",
        "**擴展 deque:**\n",
        "\n",
        ".extend(iterable): 將 iterable 的元素添加到右端。\n",
        "\n",
        ".extendleft(iterable): 將 iterable 的元素添加到左端（注意：iterable 的元素將會逆序添加到左端）。\n",
        "\n",
        "其他操作:\n",
        "\n",
        ".rotate(n): 向右旋轉 deque n 步。如果 n 是負數，則向左旋轉。\n",
        "\n",
        ".clear(): 清空 deque。\n",
        "\n",
        ".count(x): 計算 deque 中元素 x 出現的次數。\n",
        "\n",
        ".index(x[, start[, stop]]): 返回第 x 個元素的位置（位於 start 和 stop 之間）。\n",
        "\n",
        ".insert(i, x): 在位置 i 插入元素 x。\n",
        "\n",
        ".remove(value): 移除第一個匹配到的 value。\n",
        "\n",
        ".reverse(): 將 deque 中的元素反向排列。"
      ],
      "metadata": {
        "id": "0RVHJjSSuwCd"
      }
    },
    {
      "cell_type": "code",
      "source": [
        "from collections import deque\n",
        "from typing import List\n",
        "\n",
        "#input\n",
        "#8\n",
        "#push 3 push 7 push 20 peek pop push 0 push 4 pop\n",
        "\n",
        "def execute(program: List[str]) -> List[int]:\n",
        "  queue=deque()\n",
        "  for cmd in program:\n",
        "    cmd=cmd.strip().split()\n",
        "    if cmd[0]=='push':\n",
        "      queue.append(cmd[1])\n",
        "    elif cmd[0]=='pop':\n",
        "        if len(queue)==0:\n",
        "           print('queue is empty')\n",
        "        else:\n",
        "            queue.popleft()\n",
        "    elif cmd[0] == 'peek':\n",
        "        if len(queue)==0:\n",
        "           print('queue is empty')\n",
        "        else:\n",
        "            print(queue[0])\n",
        "  return queue\n",
        "\n",
        "\n",
        "if __name__ == '__main__':\n",
        "  cnt=int(input())\n",
        "  program=[input() for _ in range(cnt)]\n",
        "  queue=execute(program)\n",
        "  print(' '.join(queue))\n",
        "\n"
      ],
      "metadata": {
        "colab": {
          "base_uri": "https://localhost:8080/",
          "height": 356
        },
        "id": "uBituogHsj1_",
        "outputId": "6cac1875-7436-4d44-8068-97b98515e67f"
      },
      "execution_count": null,
      "outputs": [
        {
          "output_type": "error",
          "ename": "KeyboardInterrupt",
          "evalue": "Interrupted by user",
          "traceback": [
            "\u001b[0;31m---------------------------------------------------------------------------\u001b[0m",
            "\u001b[0;31mKeyboardInterrupt\u001b[0m                         Traceback (most recent call last)",
            "\u001b[0;32m<ipython-input-1-0833215e866d>\u001b[0m in \u001b[0;36m<cell line: 27>\u001b[0;34m()\u001b[0m\n\u001b[1;32m     26\u001b[0m \u001b[0;34m\u001b[0m\u001b[0m\n\u001b[1;32m     27\u001b[0m \u001b[0;32mif\u001b[0m \u001b[0m__name__\u001b[0m \u001b[0;34m==\u001b[0m \u001b[0;34m'__main__'\u001b[0m\u001b[0;34m:\u001b[0m\u001b[0;34m\u001b[0m\u001b[0;34m\u001b[0m\u001b[0m\n\u001b[0;32m---> 28\u001b[0;31m   \u001b[0mcnt\u001b[0m\u001b[0;34m=\u001b[0m\u001b[0mint\u001b[0m\u001b[0;34m(\u001b[0m\u001b[0minput\u001b[0m\u001b[0;34m(\u001b[0m\u001b[0;34m)\u001b[0m\u001b[0;34m)\u001b[0m\u001b[0;34m\u001b[0m\u001b[0;34m\u001b[0m\u001b[0m\n\u001b[0m\u001b[1;32m     29\u001b[0m   \u001b[0mprogram\u001b[0m\u001b[0;34m=\u001b[0m\u001b[0;34m[\u001b[0m\u001b[0minput\u001b[0m\u001b[0;34m(\u001b[0m\u001b[0;34m)\u001b[0m \u001b[0;32mfor\u001b[0m \u001b[0m_\u001b[0m \u001b[0;32min\u001b[0m \u001b[0mrange\u001b[0m\u001b[0;34m(\u001b[0m\u001b[0mcnt\u001b[0m\u001b[0;34m)\u001b[0m\u001b[0;34m]\u001b[0m\u001b[0;34m\u001b[0m\u001b[0;34m\u001b[0m\u001b[0m\n\u001b[1;32m     30\u001b[0m   \u001b[0mqueue\u001b[0m\u001b[0;34m=\u001b[0m\u001b[0mexecute\u001b[0m\u001b[0;34m(\u001b[0m\u001b[0mprogram\u001b[0m\u001b[0;34m)\u001b[0m\u001b[0;34m\u001b[0m\u001b[0;34m\u001b[0m\u001b[0m\n",
            "\u001b[0;32m/usr/local/lib/python3.10/dist-packages/ipykernel/kernelbase.py\u001b[0m in \u001b[0;36mraw_input\u001b[0;34m(self, prompt)\u001b[0m\n\u001b[1;32m    849\u001b[0m                 \u001b[0;34m\"raw_input was called, but this frontend does not support input requests.\"\u001b[0m\u001b[0;34m\u001b[0m\u001b[0;34m\u001b[0m\u001b[0m\n\u001b[1;32m    850\u001b[0m             )\n\u001b[0;32m--> 851\u001b[0;31m         return self._input_request(str(prompt),\n\u001b[0m\u001b[1;32m    852\u001b[0m             \u001b[0mself\u001b[0m\u001b[0;34m.\u001b[0m\u001b[0m_parent_ident\u001b[0m\u001b[0;34m,\u001b[0m\u001b[0;34m\u001b[0m\u001b[0;34m\u001b[0m\u001b[0m\n\u001b[1;32m    853\u001b[0m             \u001b[0mself\u001b[0m\u001b[0;34m.\u001b[0m\u001b[0m_parent_header\u001b[0m\u001b[0;34m,\u001b[0m\u001b[0;34m\u001b[0m\u001b[0;34m\u001b[0m\u001b[0m\n",
            "\u001b[0;32m/usr/local/lib/python3.10/dist-packages/ipykernel/kernelbase.py\u001b[0m in \u001b[0;36m_input_request\u001b[0;34m(self, prompt, ident, parent, password)\u001b[0m\n\u001b[1;32m    893\u001b[0m             \u001b[0;32mexcept\u001b[0m \u001b[0mKeyboardInterrupt\u001b[0m\u001b[0;34m:\u001b[0m\u001b[0;34m\u001b[0m\u001b[0;34m\u001b[0m\u001b[0m\n\u001b[1;32m    894\u001b[0m                 \u001b[0;31m# re-raise KeyboardInterrupt, to truncate traceback\u001b[0m\u001b[0;34m\u001b[0m\u001b[0;34m\u001b[0m\u001b[0m\n\u001b[0;32m--> 895\u001b[0;31m                 \u001b[0;32mraise\u001b[0m \u001b[0mKeyboardInterrupt\u001b[0m\u001b[0;34m(\u001b[0m\u001b[0;34m\"Interrupted by user\"\u001b[0m\u001b[0;34m)\u001b[0m \u001b[0;32mfrom\u001b[0m \u001b[0;32mNone\u001b[0m\u001b[0;34m\u001b[0m\u001b[0;34m\u001b[0m\u001b[0m\n\u001b[0m\u001b[1;32m    896\u001b[0m             \u001b[0;32mexcept\u001b[0m \u001b[0mException\u001b[0m \u001b[0;32mas\u001b[0m \u001b[0me\u001b[0m\u001b[0;34m:\u001b[0m\u001b[0;34m\u001b[0m\u001b[0;34m\u001b[0m\u001b[0m\n\u001b[1;32m    897\u001b[0m                 \u001b[0mself\u001b[0m\u001b[0;34m.\u001b[0m\u001b[0mlog\u001b[0m\u001b[0;34m.\u001b[0m\u001b[0mwarning\u001b[0m\u001b[0;34m(\u001b[0m\u001b[0;34m\"Invalid Message:\"\u001b[0m\u001b[0;34m,\u001b[0m \u001b[0mexc_info\u001b[0m\u001b[0;34m=\u001b[0m\u001b[0;32mTrue\u001b[0m\u001b[0;34m)\u001b[0m\u001b[0;34m\u001b[0m\u001b[0;34m\u001b[0m\u001b[0m\n",
            "\u001b[0;31mKeyboardInterrupt\u001b[0m: Interrupted by user"
          ]
        }
      ]
    },
    {
      "cell_type": "markdown",
      "source": [
        "### Heap\n",
        "\n",
        "get_counter() takes an integer array and returns a hash table with the array elements as keys and their frequencies as values."
      ],
      "metadata": {
        "id": "nziYKK3FrcO1"
      }
    },
    {
      "cell_type": "code",
      "source": [
        "\n",
        "def get_counter(data):\n",
        "    counter=dict()\n",
        "    for num in data:\n",
        "        num=int(num)\n",
        "        counter[num]=counter.get(num,0)+1\n",
        "    return counter\n",
        "\n",
        "if __name__ == '__main__':\n",
        "  data=input()\n",
        "  data=data.strip().split()\n",
        "  counter=get_counter(data)\n",
        "  result=sorted(counter)\n",
        "  for item in result:\n",
        "      print(item,counter[item])"
      ],
      "metadata": {
        "id": "lldeD39fsBhV"
      },
      "execution_count": null,
      "outputs": []
    }
  ]
}