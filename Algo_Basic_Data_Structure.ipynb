{
  "nbformat": 4,
  "nbformat_minor": 0,
  "metadata": {
    "colab": {
      "provenance": [],
      "authorship_tag": "ABX9TyNvb6Nr2y5DXHedcCScwI1c",
      "include_colab_link": true
    },
    "kernelspec": {
      "name": "python3",
      "display_name": "Python 3"
    },
    "language_info": {
      "name": "python"
    }
  },
  "cells": [
    {
      "cell_type": "markdown",
      "metadata": {
        "id": "view-in-github",
        "colab_type": "text"
      },
      "source": [
        "<a href=\"https://colab.research.google.com/github/kellemes13/Algo_Study/blob/main/Algo_Basic_Data_Structure.ipynb\" target=\"_parent\"><img src=\"https://colab.research.google.com/assets/colab-badge.svg\" alt=\"Open In Colab\"/></a>"
      ]
    },
    {
      "cell_type": "markdown",
      "source": [
        "**Basic Data Structure**"
      ],
      "metadata": {
        "id": "38QsrZ7aztsz"
      }
    },
    {
      "cell_type": "markdown",
      "source": [
        "**Stack**\n",
        "\n",
        "Given a mini program, consisting of a list of stack operations of push, pop, and peek,\n",
        "return the resulting stack after the execution of the program.\n",
        "Print out the top item in the stack when you get a peek instruction....\n",
        "\n",
        "8\n",
        "push 3\n",
        "push 7\n",
        "push 20\n",
        "peek\n",
        "pop\n",
        "push 0\n",
        "push 4\n",
        "pop"
      ],
      "metadata": {
        "id": "JUO5Eclo8iCj"
      }
    },
    {
      "cell_type": "code",
      "source": [
        "from typing import List\n",
        "\n",
        "def execute(program: List[str]) -> List[int]:\n",
        "  stack=[]\n",
        "  for cmd in program:\n",
        "    cmd=cmd.strip().split()\n",
        "    if cmd[0] =='push':\n",
        "      stack.append(cmd[1])\n",
        "    elif cmd[0] =='pop':\n",
        "      stack.pop()\n",
        "    elif cmd[0] == 'peek':\n",
        "      print(stack[-1])\n",
        "  return stack\n",
        "\n",
        "if __name__ == '__main__':\n",
        "  cnt=int(input())\n",
        "  program=[input() for _ in range(cnt)]\n",
        "  stack=execute(program)\n",
        "  print(' '.join(stack))\n",
        "\n"
      ],
      "metadata": {
        "id": "dXIGixP2zwCB"
      },
      "execution_count": null,
      "outputs": []
    }
  ]
}